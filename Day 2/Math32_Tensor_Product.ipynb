{
 "cells": [
  {
   "cell_type": "markdown",
   "metadata": {},
   "source": [
    "<a href=\"https://qworld.net\" target=\"_blank\" align=\"left\"><img src=\"../qworld/images/header.jpg\"  align=\"left\"></a>\n",
    "$ \\newcommand{\\bra}[1]{\\langle #1|} $\n",
    "$ \\newcommand{\\ket}[1]{|#1\\rangle} $\n",
    "$ \\newcommand{\\braket}[2]{\\langle #1|#2\\rangle} $\n",
    "$ \\newcommand{\\dot}[2]{ #1 \\cdot #2} $\n",
    "$ \\newcommand{\\biginner}[2]{\\left\\langle #1,#2\\right\\rangle} $\n",
    "$ \\newcommand{\\mymatrix}[2]{\\left( \\begin{array}{#1} #2\\end{array} \\right)} $\n",
    "$ \\newcommand{\\myvector}[1]{\\mymatrix{c}{#1}} $\n",
    "$ \\newcommand{\\myrvector}[1]{\\mymatrix{r}{#1}} $\n",
    "$ \\newcommand{\\mypar}[1]{\\left( #1 \\right)} $\n",
    "$ \\newcommand{\\mybigpar}[1]{ \\Big( #1 \\Big)} $\n",
    "$ \\newcommand{\\sqrttwo}{\\frac{1}{\\sqrt{2}}} $\n",
    "$ \\newcommand{\\dsqrttwo}{\\dfrac{1}{\\sqrt{2}}} $\n",
    "$ \\newcommand{\\onehalf}{\\frac{1}{2}} $\n",
    "$ \\newcommand{\\donehalf}{\\dfrac{1}{2}} $\n",
    "$ \\newcommand{\\hadamard}{ \\mymatrix{rr}{ \\sqrttwo & \\sqrttwo \\\\ \\sqrttwo & -\\sqrttwo }} $\n",
    "$ \\newcommand{\\vzero}{\\myvector{1\\\\0}} $\n",
    "$ \\newcommand{\\vone}{\\myvector{0\\\\1}} $\n",
    "$ \\newcommand{\\stateplus}{\\myvector{ \\sqrttwo \\\\  \\sqrttwo } } $\n",
    "$ \\newcommand{\\stateminus}{ \\myrvector{ \\sqrttwo \\\\ -\\sqrttwo } } $\n",
    "$ \\newcommand{\\myarray}[2]{ \\begin{array}{#1}#2\\end{array}} $\n",
    "$ \\newcommand{\\X}{ \\mymatrix{cc}{0 & 1 \\\\ 1 & 0}  } $\n",
    "$ \\newcommand{\\I}{ \\mymatrix{rr}{1 & 0 \\\\ 0 & 1}  } $\n",
    "$ \\newcommand{\\Z}{ \\mymatrix{rr}{1 & 0 \\\\ 0 & -1}  } $\n",
    "$ \\newcommand{\\Htwo}{ \\mymatrix{rrrr}{ \\frac{1}{2} & \\frac{1}{2} & \\frac{1}{2} & \\frac{1}{2} \\\\ \\frac{1}{2} & -\\frac{1}{2} & \\frac{1}{2} & -\\frac{1}{2} \\\\ \\frac{1}{2} & \\frac{1}{2} & -\\frac{1}{2} & -\\frac{1}{2} \\\\ \\frac{1}{2} & -\\frac{1}{2} & -\\frac{1}{2} & \\frac{1}{2} } } $\n",
    "$ \\newcommand{\\CNOT}{ \\mymatrix{cccc}{1 & 0 & 0 & 0 \\\\ 0 & 1 & 0 & 0 \\\\ 0 & 0 & 0 & 1 \\\\ 0 & 0 & 1 & 0} } $\n",
    "$ \\newcommand{\\norm}[1]{ \\left\\lVert #1 \\right\\rVert } $\n",
    "$ \\newcommand{\\pstate}[1]{ \\lceil \\mspace{-1mu} #1 \\mspace{-1.5mu} \\rfloor } $\n",
    "$ \\newcommand{\\greenbit}[1] {\\mathbf{{\\color{green}#1}}} $\n",
    "$ \\newcommand{\\bluebit}[1] {\\mathbf{{\\color{blue}#1}}} $\n",
    "$ \\newcommand{\\redbit}[1] {\\mathbf{{\\color{red}#1}}} $\n",
    "$ \\newcommand{\\brownbit}[1] {\\mathbf{{\\color{brown}#1}}} $\n",
    "$ \\newcommand{\\blackbit}[1] {\\mathbf{{\\color{black}#1}}} $"
   ]
  },
  {
   "cell_type": "markdown",
   "metadata": {},
   "source": [
    "<font style=\"font-size:28px;\" align=\"left\"><b>Matrices: Tensor Product</b></font>\n",
    "<br>\n",
    "_prepared by Abuzer Yakaryilmaz_\n",
    "<br><br>"
   ]
  },
  {
   "cell_type": "markdown",
   "metadata": {},
   "source": [
    "Tensor product is defined between any two matrices. The result is a new probably bigger matrix.\n",
    "\n",
    "Before giving its formal definition, we define it based on examples.\n",
    "\n",
    "We start with a simple case.\n",
    "\n",
    "<i>A vector is also a matrix. Therefore, tensor product can be defined between two vectors or between one vector and one matrix.</i>"
   ]
  },
  {
   "cell_type": "markdown",
   "metadata": {},
   "source": [
    "<h3> Tensor product of two vectors </h3>\n",
    "\n",
    "We have two vectors: $ u = \\myrvector{-2\\\\3} $ and $ v = \\myrvector{1 \\\\ 2 \\\\ -3} $.\n",
    "\n",
    "The tensor product of $u$ and $ v $ is denoted by $ u \\otimes v $.\n",
    "\n",
    "We may consider the tensor product as extending $ u $ by $ v $:\n",
    "\n",
    "$$\n",
    "    u \\otimes v =  \\myrvector{-2\\\\3} \\otimes \\myrvector{1 \\\\ 2 \\\\ -3} =\n",
    "   \\myrvector{ -2 \\cdot  \\myrvector{1 \\\\ 2 \\\\ -3} \\\\ 3 \\cdot  \\myrvector{1 \\\\ 2 \\\\ -3} } =\n",
    "   \\myrvector{ -2 \\\\ -4 \\\\ 6 \\\\ 3 \\\\ 6 \\\\ -9 }.\n",
    "$$\n",
    "\n",
    "Here, $ -2 $ in $ u $ is replaced with the vector $ (-2  v) $, and $ 3 $ in $ u $ is replaced with the vector $ 3 v $.\n",
    "\n",
    "Thus each entry of $ u $ is replaced by a 3-dimensional vector, and the dimension of the result vector is $ 6~(=2 \\cdot 3) $.\n",
    "\n",
    "Algorithmically, each element in $ u $ is replaced by the multiplication of this element with the vector $ v $.\n",
    "\n",
    "Let's find $ v \\otimes u $ in Python."
   ]
  },
  {
   "cell_type": "code",
   "execution_count": 2,
   "metadata": {},
   "outputs": [
    {
     "name": "stdout",
     "output_type": "stream",
     "text": [
      "v = [1, 2, -3]\n",
      "u = [-2, 3]\n",
      "vu = [-2, 3, -4, 6, 6, -9]\n"
     ]
    }
   ],
   "source": [
    "# vector v\n",
    "v = [1,2,-3]\n",
    "# vector u\n",
    "u=[-2,3]\n",
    "\n",
    "vu = []\n",
    "\n",
    "for i in range(len(v)): # each element of v will be replaced\n",
    "    for j in range(len(u)): # the vector u will come here after multiplying with the entry there\n",
    "        vu.append( v[i] * u[j] )\n",
    "\n",
    "print(\"v =\",v)\n",
    "print(\"u =\",u)\n",
    "print(\"vu =\",vu)"
   ]
  },
  {
   "cell_type": "markdown",
   "metadata": {},
   "source": [
    "<h3> Task 1 </h3>\n",
    "\n",
    "Find $ u \\otimes v $ and $ v \\otimes u $ for the given vectors $ u = \\myrvector{-2 \\\\ -1 \\\\ 0 \\\\ 1} $ and $ v = \\myrvector{ 1 \\\\ 2 \\\\ 3 } $."
   ]
  },
  {
   "cell_type": "markdown",
   "metadata": {},
   "source": [
    "<h3>Solution</h3>"
   ]
  },
  {
   "cell_type": "code",
   "execution_count": 10,
   "metadata": {},
   "outputs": [
    {
     "name": "stdout",
     "output_type": "stream",
     "text": [
      "u-tensor-v is [-2, -4, -6, -1, -2, -3, 0, 0, 0, 1, 2, 3]\n",
      "v-tensor-u is [-2, -1, 0, 1, -4, -2, 0, 2, -6, -3, 0, 3]\n"
     ]
    }
   ],
   "source": [
    "u = [-2,-1,0,1]\n",
    "v = [1,2,3]\n",
    "\n",
    "uv = []\n",
    "vu = []\n",
    "\n",
    "\n",
    "for i in range(len(u)): # one element of u is picked\n",
    "    for j in range(len(v)): # now we iteratively select every element of v\n",
    "        uv.append(u[i]*v[j]) # this one element of u is iteratively multiplied with every element of v \n",
    "    \n",
    "print(\"u-tensor-v is\",uv)    \n",
    "\n",
    "for i in range(len(v)): # one element of v is picked\n",
    "    for j in range(len(u)): # now we iteratively select every element of u\n",
    "        vu.append(v[i]*u[j]) # this one element of v is iteratively multiplied with every element of u \n",
    "\n",
    "print(\"v-tensor-u is\",vu)    "
   ]
  },
  {
   "cell_type": "markdown",
   "metadata": {},
   "source": [
    "<a href=\"Math32_Tensor_Product_Solutions.ipynb#task1\">click for our solution</a>"
   ]
  },
  {
   "cell_type": "markdown",
   "metadata": {},
   "source": [
    "<h3> Note:</h3>\n",
    "\n",
    "Tensor products are useful when we have a system composed by two (or more) sub-systems. \n",
    "\n",
    "Any new entry after tensoring represents a pair of entries, each of which comes from one of the sub-sytems.\n",
    "\n",
    "We will see the usage of tensor products in the main tutorial."
   ]
  },
  {
   "cell_type": "markdown",
   "metadata": {},
   "source": [
    "<h3> Tensor product of two matrices </h3>\n",
    "\n",
    "The definition is the same.\n",
    "\n",
    "Let's find $ M \\otimes N $ and $ N \\otimes M $ for the given matrices\n",
    "$\n",
    "    M = \\mymatrix{rrr}{-1 & 0 & 1 \\\\ -2 & -1 & 2 \\\\ 1 & 2 & -2} ~~\\mbox{and}~~ \n",
    "    N = \\mymatrix{rrr}{0 & 2 & 1 \\\\ 3 & -1 & -2 \\\\ -1 & 1 & 0}.\n",
    "$\n",
    "\n",
    "$ M \\otimes N $: Each element of $ M $ will be replaced with the whole matrix $ N $ after multiplying with this element.\n",
    "\n",
    "$$\n",
    "    M \\otimes N =\n",
    "    \\mymatrix{rrr}{-1 & 0 & 1 \\\\ -2 & -1 & 2 \\\\ 1 & 2 & -2} \\otimes \\mymatrix{rrr}{0 & 2 & 1 \\\\ 3 & -1 & -2 \\\\ -1 & 1 & 0}\n",
    "    =\n",
    "    \\mymatrix{rrr}{ -1 \\mymatrix{rrr}{0 & 2 & 1 \\\\ 3 & -1 & -2 \\\\ -1 & 1 & 0} & 0 \\mymatrix{rrr}{0 & 2 & 1 \\\\ 3 & -1 & -2 \\\\ -1 & 1 & 0} & 1 \\mymatrix{rrr}{0 & 2 & 1 \\\\ 3 & -1 & -2 \\\\ -1 & 1 & 0} \\\\\n",
    "    -2 \\mymatrix{rrr}{0 & 2 & 1 \\\\ 3 & -1 & -2 \\\\ -1 & 1 & 0} & -1 \\mymatrix{rrr}{0 & 2 & 1 \\\\ 3 & -1 & -2 \\\\ -1 & 1 & 0} & 2 \\mymatrix{rrr}{0 & 2 & 1 \\\\ 3 & -1 & -2 \\\\ -1 & 1 & 0} \\\\\n",
    "    1 \\mymatrix{rrr}{0 & 2 & 1 \\\\ 3 & -1 & -2 \\\\ -1 & 1 & 0} & 2 \\mymatrix{rrr}{0 & 2 & 1 \\\\ 3 & -1 & -2 \\\\ -1 & 1 & 0} & -2 \\mymatrix{rrr}{0 & 2 & 1 \\\\ 3 & -1 & -2 \\\\ -1 & 1 & 0}}\n",
    "$$\n",
    "\n",
    "Calculating by hand looks a boring task because of many repetitions. \n",
    "\n",
    "We do this once by hand (in mind), and then check the result by Python."
   ]
  },
  {
   "cell_type": "markdown",
   "metadata": {},
   "source": [
    "$$\n",
    "    M \\otimes N = \\mymatrix{rrrrrrrrr}{\n",
    "        0 & -2 & -1 & 0 & 0 & 0 & 0 & 2 & 1 \\\\\n",
    "        -3 & 1 & 2 & 0 & 0 & 0 & 3 & -1 & -2 \\\\\n",
    "        1 & -1 & 0 & 0 & 0 & 0 & -1 & 1 & 0 \\\\\n",
    "        0 & -4 & -2 & 0 & -2 & -1 & 0 & 4 & 2 \\\\\n",
    "        -6 & 2 & 4 & -3 & 1 & 2 & 6 & -2 & -4 \\\\\n",
    "        2 & -2 & 0 & 1 & -1 & 0 & -2 & 2 & 0 \\\\\n",
    "        0 & 2 & 1 & 0 & 4 & 2 & 0 &  -4 & -2 \\\\\n",
    "        3 & -1 & -2 & 6 & -2 & -4 & -6 & 2 & 4 \\\\\n",
    "        -1 & 1 & 0 & -2 & 2 & 0 & 2 & -2 & 0\n",
    "    }\n",
    "$$\n",
    "\n",
    "Now, we find the same matrix in Python.\n",
    "\n",
    "This time we use four nested for-loops."
   ]
  },
  {
   "cell_type": "code",
   "execution_count": 12,
   "metadata": {},
   "outputs": [
    {
     "ename": "IndexError",
     "evalue": "list index out of range",
     "output_type": "error",
     "traceback": [
      "\u001b[31m---------------------------------------------------------------------------\u001b[39m",
      "\u001b[31mIndexError\u001b[39m                                Traceback (most recent call last)",
      "\u001b[36mCell\u001b[39m\u001b[36m \u001b[39m\u001b[32mIn[12]\u001b[39m\u001b[32m, line 26\u001b[39m\n\u001b[32m     24\u001b[39m         \u001b[38;5;28;01mfor\u001b[39;00m k \u001b[38;5;129;01min\u001b[39;00m \u001b[38;5;28mrange\u001b[39m(\u001b[32m3\u001b[39m): \u001b[38;5;66;03m# row of N\u001b[39;00m\n\u001b[32m     25\u001b[39m             \u001b[38;5;28;01mfor\u001b[39;00m l \u001b[38;5;129;01min\u001b[39;00m \u001b[38;5;28mrange\u001b[39m(\u001b[32m3\u001b[39m): \u001b[38;5;66;03m# column of N\u001b[39;00m\n\u001b[32m---> \u001b[39m\u001b[32m26\u001b[39m                 MN[i*\u001b[32m3\u001b[39m+k][\u001b[32m3\u001b[39m*j+l] = M[i][j] * N[k][l] \n\u001b[32m     28\u001b[39m \u001b[38;5;28mprint\u001b[39m(\u001b[33m\"\u001b[39m\u001b[33mM-tensor-N is\u001b[39m\u001b[33m\"\u001b[39m)                \n\u001b[32m     29\u001b[39m \u001b[38;5;28;01mfor\u001b[39;00m i \u001b[38;5;129;01min\u001b[39;00m \u001b[38;5;28mrange\u001b[39m(\u001b[32m9\u001b[39m):\n",
      "\u001b[31mIndexError\u001b[39m: list index out of range"
     ]
    }
   ],
   "source": [
    "# matrix M\n",
    "M = [ \n",
    "    [-1,0,1],\n",
    "    [-2,-1,2],\n",
    "    [1,2,-2]\n",
    "]\n",
    "\n",
    "# matrix N\n",
    "N = [\n",
    "    [0,2,1],\n",
    "    [3,-1,-2],\n",
    "    [-1,1,0]\n",
    "]\n",
    "\n",
    "# MN will be a (9x9)-dimensional matrix\n",
    "# prepare it as a zero matrix\n",
    "# this helps us to easily fill it \n",
    "MN=[]\n",
    "for i in range(9):\n",
    "    MN.append([])\n",
    "    for j in range(9):\n",
    "        MN[i].append(0)\n",
    "\n",
    "for i in range(3): # row of M\n",
    "    for j in range(3): # column of M\n",
    "        for k in range(3): # row of N\n",
    "            for l in range(3): # column of N\n",
    "                MN[i*3+k][3*j+l] = M[i][j] * N[k][l] \n",
    "\n",
    "print(\"M-tensor-N is\")                \n",
    "for i in range(9):\n",
    "    print(MN[i])"
   ]
  },
  {
   "cell_type": "markdown",
   "metadata": {},
   "source": [
    "We find $ N \\otimes M $ in Python.\n",
    "\n",
    "We use the same code by interchanging $ N $ and $ M $."
   ]
  },
  {
   "cell_type": "code",
   "execution_count": 6,
   "metadata": {},
   "outputs": [
    {
     "name": "stdout",
     "output_type": "stream",
     "text": [
      "N-tensor-M is\n",
      "[0, 0, 0, -2, 0, 2, -1, 0, 1]\n",
      "[0, 0, 0, -4, -2, 4, -2, -1, 2]\n",
      "[0, 0, 0, 2, 4, -4, 1, 2, -2]\n",
      "[-3, 0, 3, 1, 0, -1, 2, 0, -2]\n",
      "[-6, -3, 6, 2, 1, -2, 4, 2, -4]\n",
      "[3, 6, -6, -1, -2, 2, -2, -4, 4]\n",
      "[1, 0, -1, -1, 0, 1, 0, 0, 0]\n",
      "[2, 1, -2, -2, -1, 2, 0, 0, 0]\n",
      "[-1, -2, 2, 1, 2, -2, 0, 0, 0]\n"
     ]
    }
   ],
   "source": [
    "# matrices M and N were defined above\n",
    "\n",
    "# matrix NM will be prepared as a (9x9)-dimensional zero matrix\n",
    "NM=[]\n",
    "for i in range(9):\n",
    "    NM.append([])\n",
    "    for j in range(9):\n",
    "        NM[i].append(0)\n",
    "\n",
    "for i in range(3): # row of N\n",
    "    for j in range(3): # column of N\n",
    "        for k in range(3): # row of M\n",
    "            for l in range(3): # column of M\n",
    "                NM[i*3+k][3*j+l] = N[i][j] * M[k][l] \n",
    "\n",
    "print(\"N-tensor-M is\")\n",
    "for i in range(9):\n",
    "    print(NM[i])"
   ]
  },
  {
   "cell_type": "markdown",
   "metadata": {},
   "source": [
    "<h3> Task 2 </h3>\n",
    "\n",
    "Find $ A \\otimes B $ for the given matrices\n",
    "$\n",
    "    A = \\mymatrix{rrr}{-1 & 0 & 1 \\\\ -2 & -1 & 2} ~~\\mbox{and}~~ \n",
    "    B = \\mymatrix{rr}{0 & 2 \\\\ 3 & -1 \\\\ -1 & 1 }.\n",
    "$"
   ]
  },
  {
   "cell_type": "code",
   "execution_count": 7,
   "metadata": {},
   "outputs": [
    {
     "name": "stdout",
     "output_type": "stream",
     "text": [
      "A =\n",
      "[-1, 0, 1]\n",
      "[-2, -1, 2]\n",
      "\n",
      "B =\n",
      "[0, 2]\n",
      "[3, -1]\n",
      "[-1, 1]\n",
      "\n",
      "A-tensor-B =\n",
      "\n",
      "[0, -2, 0, 0, 0, 2]\n",
      "[-3, 1, 0, 0, 3, -1]\n",
      "[1, -1, 0, 0, -1, 1]\n",
      "[0, -4, 0, -2, 0, 4]\n",
      "[-6, 2, -3, 1, 6, -2]\n",
      "[2, -2, 1, -1, -2, 2]\n"
     ]
    }
   ],
   "source": [
    "A = [\n",
    "    [-1,0,1],\n",
    "    [-2,-1,2]\n",
    "]\n",
    "\n",
    "B = [\n",
    "    [0,2],\n",
    "    [3,-1],\n",
    "    [-1,1]\n",
    "]\n",
    "\n",
    "print(\"A =\")\n",
    "for i in range(len(A)):\n",
    "    print(A[i])\n",
    "\n",
    "print() # print a line\n",
    "print(\"B =\")\n",
    "for i in range(len(B)):\n",
    "    print(B[i])\n",
    "\n",
    "# let's define A-tensor-B as a (6x6)-dimensional zero matrix\n",
    "AB = []\n",
    "for i in range(6):\n",
    "    AB.append([])\n",
    "    for j in range(6):\n",
    "        AB[i].append(0)\n",
    "\n",
    "    \n",
    "        \n",
    "# let's find A-tensor-B\n",
    "for i in range(2):\n",
    "    for j in range(3):\n",
    "        # for each A(i,j) we execute the following codes\n",
    "        a = A[i][j]\n",
    "        # we access each element of B\n",
    "        for m in range(3):\n",
    "            for n in range(2):\n",
    "                b = B[m][n]\n",
    "                # now we put (a*b) in the appropriate index of AB\n",
    "                AB[3*i+m][2*j+n] = a * b\n",
    "    \n",
    "    \n",
    "\n",
    "print() # print a line\n",
    "print(\"A-tensor-B =\") \n",
    "print() # print a line\n",
    "for i in range(6):\n",
    "    print(AB[i])"
   ]
  },
  {
   "cell_type": "markdown",
   "metadata": {},
   "source": [
    "<a href=\"Math32_Tensor_Product_Solutions.ipynb#task2\">click for our solution</a>"
   ]
  },
  {
   "cell_type": "markdown",
   "metadata": {},
   "source": [
    "<h3> Task 3 </h3>\n",
    "\n",
    "Find $ B \\otimes A $ for the given matrices\n",
    "$\n",
    "    A = \\mymatrix{rrr}{-1 & 0 & 1 \\\\ -2 & -1 & 2} ~~\\mbox{and}~~ \n",
    "    B = \\mymatrix{rr}{0 & 2 \\\\ 3 & -1 \\\\ -1 & 1 }.\n",
    "$\n",
    "\n",
    "You can use the code in your (our) solution for Task 2.\n",
    "\n",
    "But please be careful with the indices and range values, and how they are interchanged (!)"
   ]
  },
  {
   "cell_type": "code",
   "execution_count": 8,
   "metadata": {},
   "outputs": [
    {
     "name": "stdout",
     "output_type": "stream",
     "text": [
      "\n",
      "B =\n",
      "[0, 2]\n",
      "[3, -1]\n",
      "[-1, 1]\n",
      "A =\n",
      "[-1, 0, 1]\n",
      "[-2, -1, 2]\n",
      "\n",
      "B-tensor-A =\n",
      "\n",
      "[0, 0, 0, -2, 0, 2]\n",
      "[0, 0, 0, -4, -2, 4]\n",
      "[-3, 0, 3, 1, 0, -1]\n",
      "[-6, -3, 6, 2, 1, -2]\n",
      "[1, 0, -1, -1, 0, 1]\n",
      "[2, 1, -2, -2, -1, 2]\n"
     ]
    }
   ],
   "source": [
    "A = [\n",
    "    [-1,0,1],\n",
    "    [-2,-1,2]\n",
    "]\n",
    "\n",
    "B = [\n",
    "    [0,2],\n",
    "    [3,-1],\n",
    "    [-1,1]\n",
    "]\n",
    "\n",
    "print() # print a line\n",
    "print(\"B =\")\n",
    "for i in range(len(B)):\n",
    "    print(B[i])\n",
    "    \n",
    "print(\"A =\")\n",
    "for i in range(len(A)):\n",
    "    print(A[i])\n",
    "\n",
    "# let's define B-tensor-A as a (6x6)-dimensional zero matrix\n",
    "BA = []\n",
    "for i in range(6):\n",
    "    BA.append([])\n",
    "    for j in range(6):\n",
    "        BA[i].append(0)\n",
    "        \n",
    "# let's find B-tensor-A\n",
    "for i in range(3):\n",
    "    for j in range(2):\n",
    "        # for each B(i,j) we execute the following codes\n",
    "        b = B[i][j]\n",
    "        # we access each element of A\n",
    "        for m in range(2):\n",
    "            for n in range(3):\n",
    "                a = A[m][n]\n",
    "                # now we put (a*b) in the appropriate index of AB\n",
    "                BA[2*i+m][3*j+n] = b * a\n",
    "    \n",
    "    \n",
    "\n",
    "print() # print a line\n",
    "print(\"B-tensor-A =\") \n",
    "print() # print a line\n",
    "for i in range(6):\n",
    "    print(BA[i])"
   ]
  },
  {
   "cell_type": "markdown",
   "metadata": {},
   "source": [
    "<a href=\"Math32_Tensor_Product_Solutions.ipynb#task3\">click for our solution</a>"
   ]
  }
 ],
 "metadata": {
  "kernelspec": {
   "display_name": "Python 3 (ipykernel)",
   "language": "python",
   "name": "python3"
  },
  "language_info": {
   "codemirror_mode": {
    "name": "ipython",
    "version": 3
   },
   "file_extension": ".py",
   "mimetype": "text/x-python",
   "name": "python",
   "nbconvert_exporter": "python",
   "pygments_lexer": "ipython3",
   "version": "3.13.5"
  }
 },
 "nbformat": 4,
 "nbformat_minor": 4
}
